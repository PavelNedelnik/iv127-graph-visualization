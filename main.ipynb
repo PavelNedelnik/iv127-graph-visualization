{
 "cells": [
  {
   "cell_type": "code",
   "execution_count": 1,
   "metadata": {},
   "outputs": [],
   "source": [
    "import pandas as pd\n",
    "import networkx as nx\n",
    "from pathlib import Path\n",
    "from networkx.drawing.nx_agraph import graphviz_layout\n",
    "\n",
    "prefix = 'data/umimematikucz-system_'\n",
    "\n",
    "kc = pd.read_csv(Path(prefix + \"kc.csv\", ), sep=';', header=0, index_col=0)\n",
    "follow = pd.read_csv(Path(prefix + \"kc_follow.csv\", ), sep=';', header=0, index_col=0)\n",
    "ps = pd.read_csv(Path(prefix + \"ps.csv\", ), sep=';', header=0, index_col=0)\n",
    "\n",
    "G = nx.Graph()\n",
    "\n",
    "G.add_nodes_from([(idx, {'name':name}) for idx, name in zip(kc.index, kc['name'])])\n",
    "G.add_node(0, name='root')\n",
    "G.add_edges_from([(idx, parent) for idx, parent in zip(kc.index, kc['parent'])])\n",
    "G.add_edges_from([(first, second) for first, second in follow[['kc1', 'kc2']].to_numpy()])\n",
    "pos = nx.spectral_layout(G, scale=400, center=(200, 200))\n",
    "# pos = graphviz_layout(G, prog='dot')"
   ]
  },
  {
   "cell_type": "code",
   "execution_count": 2,
   "metadata": {},
   "outputs": [],
   "source": [
    "def encode_node(idx, name, position):\n",
    "    return {'data': {'id': str(idx), 'label': name}, 'position': {'x': int(position[0]), 'y': int(position[1])}}\n",
    "\n",
    "def encode_edge(source, target):\n",
    "    return {'data': {'source': str(source), 'target': str(target)}}\n",
    "\n",
    "elements = []\n",
    "\n",
    "elements += [encode_node(idx, params['name'], pos[idx]) for idx, params in G.nodes(data=True)]\n",
    "elements += [encode_edge(s, t) for s, t in G.edges()]\n"
   ]
  },
  {
   "cell_type": "code",
   "execution_count": 3,
   "metadata": {},
   "outputs": [],
   "source": [
    "import json\n",
    "import dash_cytoscape as cyto\n",
    "import dash_bootstrap_components as dbc\n",
    "import src.custom_components as cc\n",
    "from dash import dcc, html, Input, Output, callback_context\n",
    "from jupyter_dash import JupyterDash\n",
    "from dash.exceptions import PreventUpdate\n",
    "\n",
    "app = JupyterDash(__name__)\n",
    "\n",
    "styles = json.load(open('styles.json', 'r'))\n",
    "\n",
    "cyto.load_extra_layouts()\n",
    "\n",
    "app.layout = cc.place_in_container([\n",
    "    dbc.Row([\n",
    "        html.Div(cyto.Cytoscape(\n",
    "            id='cytoscape',\n",
    "            elements=elements,\n",
    "            style=styles['cytoscape'],\n",
    "            layout={'name': 'klay'}, # klay\n",
    "            responsive=True,\n",
    "            autoRefreshLayout=False\n",
    "        )),\n",
    "    ]),\n",
    "    dbc.Row([\n",
    "        dcc.Dropdown(\n",
    "            id='graph_layout',\n",
    "            value='klay',\n",
    "            clearable=False,\n",
    "            options=[\n",
    "                {'label': name.capitalize(), 'value': name}\n",
    "                for name in ['klay', 'random', 'cose', 'concentric', 'breadthfirst']\n",
    "            ]\n",
    "        )\n",
    "    ]),\n",
    "    html.Div(id = 'last_clicked'), # , style = {'display': 'none'}\n",
    "])"
   ]
  },
  {
   "cell_type": "code",
   "execution_count": 4,
   "metadata": {},
   "outputs": [],
   "source": [
    "import json\n",
    "\"\"\"\n",
    "@app.callback(\n",
    "        Output('last_clicked', 'children'),\n",
    "        # Input('last_clicked', 'children'),\n",
    "        Input('cytoscape', 'tapNodeData'),\n",
    ")\n",
    "def update_last_clicked(clicked):\n",
    "    return json.dumps(clicked)\n",
    "\"\"\"\n",
    "\n",
    "@app.callback(\n",
    "        Output('last_clicked', 'children'),\n",
    "        Input('cytoscape', 'tapNodeData'),\n",
    "        Input('cytoscape', 'elements'),\n",
    "        Input('cytoscape', 'selectedNodeData')\n",
    ")\n",
    "def update_last_clicked(clicked, elements, selected):\n",
    "    if callback_context.triggered and callback_context.triggered[0]['prop_id'].split('.')[1] != 'tapNodeData':\n",
    "        raise PreventUpdate\n",
    "    return json.dumps(elements[-1])\n",
    "\n",
    "\n",
    "def filter_for_edge(edge):\n",
    "    return lambda e: 'source' not in e['data'] or e['data']['source'] != edge['data']['source'] or e['data']['target'] != edge['data']['target']\n",
    "\n",
    "\n",
    "@app.callback(\n",
    "        Output('cytoscape', 'elements'),\n",
    "        Input('cytoscape', 'tapNodeData'),\n",
    "        Input('cytoscape', 'elements'),\n",
    "        Input('cytoscape', 'selectedNodeData')\n",
    ")\n",
    "def update_graph(clicked, elements, selected):\n",
    "    if callback_context.triggered and callback_context.triggered[0]['prop_id'].split('.')[1] != 'tapNodeData' or not selected:\n",
    "        raise PreventUpdate\n",
    "    \n",
    "    edge = encode_edge(int(selected[-1]['id']), clicked['id'])\n",
    "    old_length = len(elements)\n",
    "    elements = list(filter(filter_for_edge(edge), elements))\n",
    "    if len(elements) == old_length:\n",
    "        elements.append(edge)\n",
    "        \n",
    "    return elements\n",
    "    # TODO adding and removing edges\n",
    "    # TODO layout\n",
    "    # TODO nodes?\n",
    "    # TODO dfs order after doubleclick\n",
    "\n",
    "@app.callback(\n",
    "    Output('cytoscape', 'layout'),\n",
    "    Input('graph_layout', 'value')\n",
    ")\n",
    "def update_layout(layout):\n",
    "    return {\n",
    "        'name': layout,\n",
    "        'animate': True\n",
    "    }"
   ]
  },
  {
   "cell_type": "code",
   "execution_count": 5,
   "metadata": {},
   "outputs": [
    {
     "name": "stdout",
     "output_type": "stream",
     "text": [
      "Dash app running on http://127.0.0.1:8050/\n"
     ]
    }
   ],
   "source": [
    "if __name__ == \"__main__\":\n",
    "    app.run_server(debug=True)"
   ]
  }
 ],
 "metadata": {
  "kernelspec": {
   "display_name": ".venv",
   "language": "python",
   "name": "python3"
  },
  "language_info": {
   "codemirror_mode": {
    "name": "ipython",
    "version": 3
   },
   "file_extension": ".py",
   "mimetype": "text/x-python",
   "name": "python",
   "nbconvert_exporter": "python",
   "pygments_lexer": "ipython3",
   "version": "3.10.7"
  },
  "orig_nbformat": 4,
  "vscode": {
   "interpreter": {
    "hash": "3e1c1ae6fae1f4ca98497d559f9f088bec4efdd66e9bbba511df98f67acbc1b2"
   }
  }
 },
 "nbformat": 4,
 "nbformat_minor": 2
}
