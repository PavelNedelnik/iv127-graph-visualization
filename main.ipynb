{
 "cells": [
  {
   "cell_type": "code",
   "execution_count": null,
   "metadata": {},
   "outputs": [],
   "source": [
    "import pandas as pd\n",
    "import networkx as nx\n",
    "from pathlib import Path\n",
    "\n",
    "prefix = 'data/umimematikucz-system_'\n",
    "\n",
    "kc = pd.read_csv(Path(prefix + \"kc.csv\", ), sep=';', header=0, index_col=0)\n",
    "follow = pd.read_csv(Path(prefix + \"kc_follow.csv\", ), sep=';', header=0, index_col=0)\n",
    "ps = pd.read_csv(Path(prefix + \"ps.csv\", ), sep=';', header=0, index_col=0)\n",
    "\n",
    "G = nx.Graph()\n",
    "\n",
    "G.add_nodes_from([(idx, {'name':name}) for idx, name in zip(kc.index, kc['name'])])\n",
    "G.add_node(0, name='root')\n",
    "G.add_edges_from([(idx, parent) for idx, parent in zip(kc.index, kc['parent'])])\n",
    "G.add_edges_from([(first, second) for first, second in follow[['kc1', 'kc2']].to_numpy()])\n",
    "pos = nx.spectral_layout(G, scale=400, center=(200, 200))"
   ]
  },
  {
   "cell_type": "code",
   "execution_count": null,
   "metadata": {},
   "outputs": [],
   "source": [
    "\n",
    "elements = []\n",
    "\n",
    "elements += [\n",
    "    {'data': {'id': str(i), 'label': params['name']}, 'position': {'x': int(pos[i][0]), 'y': int(pos[i][1])}} for i, params in G.nodes(data=True)\n",
    "]\n",
    "\n",
    "elements += [\n",
    "    {'data': {'source': str(s), 'target': str(t)}} for s, t in G.edges()\n",
    "]\n"
   ]
  },
  {
   "cell_type": "code",
   "execution_count": null,
   "metadata": {},
   "outputs": [],
   "source": [
    "import json\n",
    "import dash_cytoscape as cyto\n",
    "from dash import html, Input, Output\n",
    "from jupyter_dash import JupyterDash\n",
    "\n",
    "app = JupyterDash(__name__)\n",
    "\n",
    "styles = json.load(open('styles.json', 'r'))\n",
    "\n",
    "cyto.load_extra_layouts()\n",
    "\n",
    "app.layout = html.Div([\n",
    "    cyto.Cytoscape(\n",
    "        id='cytoscape',\n",
    "        elements=elements,\n",
    "        style=styles['cytoscape'],\n",
    "        layout={'name': 'dagre'},\n",
    "        responsive=True,\n",
    "    )\n",
    "])\n",
    "\n",
    "if __name__ == \"__main__\":\n",
    "    app.run_server(debug=True)"
   ]
  }
 ],
 "metadata": {
  "kernelspec": {
   "display_name": ".venv",
   "language": "python",
   "name": "python3"
  },
  "language_info": {
   "codemirror_mode": {
    "name": "ipython",
    "version": 3
   },
   "file_extension": ".py",
   "mimetype": "text/x-python",
   "name": "python",
   "nbconvert_exporter": "python",
   "pygments_lexer": "ipython3",
   "version": "3.10.7"
  },
  "orig_nbformat": 4,
  "vscode": {
   "interpreter": {
    "hash": "3e1c1ae6fae1f4ca98497d559f9f088bec4efdd66e9bbba511df98f67acbc1b2"
   }
  }
 },
 "nbformat": 4,
 "nbformat_minor": 2
}
